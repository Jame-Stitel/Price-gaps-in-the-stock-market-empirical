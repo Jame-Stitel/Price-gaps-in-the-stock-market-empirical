{
 "cells": [
  {
   "cell_type": "markdown",
   "metadata": {
    "collapsed": true,
    "pycharm": {
     "name": "#%% md\n"
    }
   },
   "source": [
    "# CNN Classification Per Symbol 2\n",
    "\n",
    "***\n"
   ]
  },
  {
   "cell_type": "markdown",
   "source": [
    "# Getting Started"
   ],
   "metadata": {
    "collapsed": false,
    "pycharm": {
     "name": "#%% md\n"
    }
   }
  },
  {
   "cell_type": "code",
   "execution_count": 1,
   "outputs": [],
   "source": [
    "import time\n",
    "import json\n",
    "import csv\n",
    "\n",
    "import numpy as np\n",
    "import tensorflow as tf\n",
    "from sklearn.metrics import r2_score\n",
    "from src.repository import BarsRepo, DbLocation, DbSample"
   ],
   "metadata": {
    "collapsed": false,
    "pycharm": {
     "name": "#%%\n"
    }
   }
  },
  {
   "cell_type": "code",
   "execution_count": 2,
   "outputs": [],
   "source": [
    "# image_dir = Path('../../data/charts/5min')"
   ],
   "metadata": {
    "collapsed": false,
    "pycharm": {
     "name": "#%%\n"
    }
   }
  },
  {
   "cell_type": "markdown",
   "source": [
    "# Create File DataFrame"
   ],
   "metadata": {
    "collapsed": false,
    "pycharm": {
     "name": "#%% md\n"
    }
   }
  },
  {
   "cell_type": "code",
   "execution_count": 3,
   "outputs": [],
   "source": [
    "N_AFTER_BARS = 5  # 5 / 0\n",
    "CHOSEN_N = 12  # from gap\n",
    "PRICE_DIFF_FROM = 0  # 5 / 0\n",
    "\n",
    "CHOSEN_N = CHOSEN_N - PRICE_DIFF_FROM  # FROM last bar in picture\n",
    "\n",
    "\n",
    "bars_repo = BarsRepo(DbLocation.LOCAL, DbSample.ALL)\n",
    "charts_df_all = bars_repo.get_charts_news_nth_price(n_after_bars=N_AFTER_BARS)"
   ],
   "metadata": {
    "collapsed": false,
    "pycharm": {
     "name": "#%%\n"
    }
   }
  },
  {
   "cell_type": "markdown",
   "source": [
    "# Method 2 - train on all, evaluate individual"
   ],
   "metadata": {
    "collapsed": false,
    "pycharm": {
     "name": "#%% md\n"
    }
   }
  },
  {
   "cell_type": "code",
   "execution_count": 4,
   "outputs": [],
   "source": [
    "charts_df_all = charts_df_all.sample(frac=1.0, random_state=1).reset_index(drop=True)\n",
    "charts_df_all[f'n_{CHOSEN_N}'] = charts_df_all.apply(lambda row : str(int(json.loads(row[f'n_after_{PRICE_DIFF_FROM}'])[f'{CHOSEN_N}'] >= 0)), axis = 1)\n",
    "charts_df_all['filepath_jupyter'] = charts_df_all.apply(lambda row : f'../../{row[\"filepath\"]}', axis = 1)"
   ],
   "metadata": {
    "collapsed": false,
    "pycharm": {
     "name": "#%%\n"
    }
   }
  },
  {
   "cell_type": "code",
   "execution_count": 11,
   "outputs": [],
   "source": [
    "train_df = charts_df_all.sample(frac=1.0, random_state=1).reset_index(drop=True)"
   ],
   "metadata": {
    "collapsed": false,
    "pycharm": {
     "name": "#%%\n"
    }
   }
  },
  {
   "cell_type": "code",
   "execution_count": 12,
   "outputs": [],
   "source": [
    "train_generator = tf.keras.preprocessing.image.ImageDataGenerator(\n",
    "    rescale=1./255,\n",
    "    validation_split=0.2\n",
    ")"
   ],
   "metadata": {
    "collapsed": false,
    "pycharm": {
     "name": "#%%\n"
    }
   }
  },
  {
   "cell_type": "code",
   "execution_count": 13,
   "outputs": [
    {
     "name": "stdout",
     "output_type": "stream",
     "text": [
      "Found 35691 validated image filenames belonging to 2 classes.\n",
      "Found 8922 validated image filenames belonging to 2 classes.\n"
     ]
    }
   ],
   "source": [
    "train_images = train_generator.flow_from_dataframe(\n",
    "    dataframe=train_df,\n",
    "    x_col='filepath_jupyter',\n",
    "    y_col=f'n_{CHOSEN_N}',\n",
    "    target_size=(119, 86),  # (119, 86), (714, 516)\n",
    "    class_mode='binary',\n",
    "    batch_size=32,\n",
    "    shuffle=True,\n",
    "    seed=42,\n",
    "    subset='training'\n",
    ")\n",
    "\n",
    "val_images = train_generator.flow_from_dataframe(\n",
    "    dataframe=train_df,\n",
    "    x_col='filepath_jupyter',\n",
    "    y_col=f'n_{CHOSEN_N}',\n",
    "    target_size=(119, 86),  # (119, 86), (714, 516)\n",
    "    class_mode='binary',\n",
    "    batch_size=32,\n",
    "    shuffle=True,\n",
    "    seed=42,\n",
    "    subset='validation'\n",
    ")"
   ],
   "metadata": {
    "collapsed": false,
    "pycharm": {
     "name": "#%%\n"
    }
   }
  },
  {
   "cell_type": "code",
   "execution_count": null,
   "outputs": [],
   "source": [
    "inputs = tf.keras.Input(shape=(119, 86, 3))  # (714, 516, 3) / (119, 86, 3)\n",
    "x = tf.keras.layers.Conv2D(filters=32, kernel_size=3, activation='relu')(inputs)\n",
    "x = tf.keras.layers.MaxPool2D(pool_size=2)(x)\n",
    "x = tf.keras.layers.Conv2D(filters=64, kernel_size=3, activation='relu')(x)\n",
    "x = tf.keras.layers.MaxPool2D(pool_size=2)(x)\n",
    "x = tf.keras.layers.Conv2D(filters=128, kernel_size=3, activation='relu')(x)\n",
    "x = tf.keras.layers.MaxPool2D(pool_size=2)(x)\n",
    "\n",
    "x = tf.keras.layers.Flatten()(x)\n",
    "\n",
    "x = tf.keras.layers.Dropout(0.5)(x)\n",
    "x = tf.keras.layers.Dense(128, activation='relu')(x)\n",
    "\n",
    "outputs = tf.keras.layers.Dense(1, activation='sigmoid')(x)\n",
    "\n",
    "\n",
    "################################################################################################################################################\n",
    "start = time.time()\n",
    "model = tf.keras.Model(inputs=inputs, outputs=outputs)\n",
    "\n",
    "def get_f1(y_true, y_pred): #taken from old keras source code\n",
    "    import tensorflow.keras.backend as K\n",
    "    true_positives = K.sum(K.round(K.clip(y_true * y_pred, 0, 1)))\n",
    "    possible_positives = K.sum(K.round(K.clip(y_true, 0, 1)))\n",
    "    predicted_positives = K.sum(K.round(K.clip(y_pred, 0, 1)))\n",
    "    precision = true_positives / (predicted_positives + K.epsilon())\n",
    "    recall = true_positives / (possible_positives + K.epsilon())\n",
    "    f1_val = 2*(precision*recall)/(precision+recall+K.epsilon())\n",
    "    return f1_val\n",
    "\n",
    "\n",
    "optimizer = tf.keras.optimizers.Adam(lr=0.000_1)\n",
    "model.compile(\n",
    "    optimizer=optimizer,\n",
    "    loss='binary_crossentropy',\n",
    "    metrics=['accuracy', 'AUC', get_f1]\n",
    ")\n",
    "\n",
    "history = model.fit(\n",
    "    train_images,\n",
    "    validation_data=val_images,\n",
    "    epochs=50,\n",
    "    callbacks=[\n",
    "        tf.keras.callbacks.EarlyStopping(\n",
    "            monitor='val_loss',\n",
    "            patience=5,\n",
    "            restore_best_weights=True,\n",
    "            verbose=1\n",
    "        )\n",
    "    ]\n",
    ")\n",
    "\n",
    "end = time.time()\n",
    "training_time = end - start\n",
    "print(f'training TIME: {training_time}')"
   ],
   "metadata": {
    "collapsed": false,
    "pycharm": {
     "name": "#%%\n",
     "is_executing": true
    }
   }
  },
  {
   "cell_type": "code",
   "execution_count": 17,
   "outputs": [],
   "source": [
    "def evaluate(charts_df):\n",
    "    charts_df = charts_df.sample(frac=1.0, random_state=1).reset_index(drop=True)\n",
    "    charts_df[f'n_{CHOSEN_N}'] = charts_df.apply(lambda row : str(int(json.loads(row[f'n_after_{PRICE_DIFF_FROM}'])[f'{CHOSEN_N}'] >= 0)), axis = 1)\n",
    "    charts_df['filepath_jupyter'] = charts_df.apply(lambda row : f'../../{row[\"filepath\"]}', axis = 1)\n",
    "\n",
    "\n",
    "    ################################################################################################################################################\n",
    "    # train_df, test_df = train_test_split(charts_df, train_size=0.000_000_001, shuffle=True, random_state=1)\n",
    "    test_df = charts_df.sample(frac=1.0, random_state=1).reset_index(drop=True)\n",
    "\n",
    "\n",
    "    ################################################################################################################################################\n",
    "    test_generator = tf.keras.preprocessing.image.ImageDataGenerator(\n",
    "        rescale=1./255\n",
    "    )\n",
    "\n",
    "\n",
    "    ################################################################################################################################################\n",
    "    test_images = test_generator.flow_from_dataframe(\n",
    "        dataframe=test_df,\n",
    "        x_col='filepath_jupyter',\n",
    "        y_col=f'n_{CHOSEN_N}',\n",
    "        target_size=(119, 86),  # (119, 86), (714, 516)\n",
    "        # color_mode='grayscale',\n",
    "        class_mode='binary',\n",
    "        batch_size=32,\n",
    "        shuffle=False\n",
    "    )\n",
    "\n",
    "\n",
    "\n",
    "    predicted = np.squeeze(model.predict(test_images))\n",
    "    actual = test_images.labels\n",
    "\n",
    "    test_loss, test_acc, test_auc, test_f1 = model.evaluate(test_images)\n",
    "    print(f\"Test loss: {test_loss:.3f}\")\n",
    "    print(f\"Test accuracy: {test_acc:.3f}\")\n",
    "    print(f\"Test AUC: {test_auc:.3f}\")\n",
    "    print(f\"Test F1-score: {test_f1:.3f}\")\n",
    "\n",
    "    r2 = r2_score(actual, predicted)\n",
    "    print(\"Test R^2 Score: {:.5f}\".format(r2))\n",
    "\n",
    "    print(f' - loss: **{test_loss:.3f}**; acc: **{test_acc:.3f}**; AUC: **{test_auc:.3f}**; F1: **{test_f1:.3f}**; R2: **{r2:.5f}**')\n",
    "    return dict(test_loss=test_loss, test_acc=test_acc, test_auc=test_auc, test_f1=test_f1, r2=r2)"
   ],
   "metadata": {
    "collapsed": false,
    "pycharm": {
     "name": "#%%\n"
    }
   }
  },
  {
   "cell_type": "code",
   "execution_count": null,
   "outputs": [],
   "source": [
    "csv_columns = ['symbol', 'n_gaps', 'test_loss', 'test_acc', 'test_auc', 'test_f1', 'r2']\n",
    "csv_file = '../../data/cnn_per_symbol/results_per_symbol_2.csv'\n",
    "\n",
    "with open(csv_file, 'a+') as csvfile:\n",
    "    writer = csv.DictWriter(csvfile, fieldnames=csv_columns)\n",
    "    # writer.writeheader()\n",
    "\n",
    "    for symbol in charts_df_all['symbol'].unique():\n",
    "        charts_df_symbol = charts_df_all[charts_df_all['symbol'] == symbol]\n",
    "\n",
    "        results = evaluate(charts_df_symbol)\n",
    "        results['symbol'] = symbol\n",
    "        results['n_gaps'] = charts_df_symbol.shape[0]\n",
    "\n",
    "\n",
    "        writer.writerow(results)"
   ],
   "metadata": {
    "collapsed": false,
    "pycharm": {
     "name": "#%%\n",
     "is_executing": true
    }
   }
  }
 ],
 "metadata": {
  "kernelspec": {
   "display_name": "Python 3",
   "language": "python",
   "name": "python3"
  },
  "language_info": {
   "codemirror_mode": {
    "name": "ipython",
    "version": 2
   },
   "file_extension": ".py",
   "mimetype": "text/x-python",
   "name": "python",
   "nbconvert_exporter": "python",
   "pygments_lexer": "ipython2",
   "version": "2.7.6"
  }
 },
 "nbformat": 4,
 "nbformat_minor": 0
}